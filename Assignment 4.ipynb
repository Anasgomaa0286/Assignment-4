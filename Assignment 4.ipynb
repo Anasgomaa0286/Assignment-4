{
 "cells": [
  {
   "cell_type": "markdown",
   "id": "a71c6c5d",
   "metadata": {},
   "source": [
    "# Assignment 4\n",
    "\n",
    "## 25/02/2024\n",
    "\n",
    "### Anas Abdelrahim"
   ]
  },
  {
   "cell_type": "code",
   "execution_count": 1,
   "id": "9afcb8b2",
   "metadata": {},
   "outputs": [
    {
     "name": "stdout",
     "output_type": "stream",
     "text": [
      "Enter the first number: 2\n",
      "Enter the second number: 5\n",
      "Enter the operation ('a' for add, 's' for subtract, 'm' for multiply, 'd' for divide): d\n",
      "Result: 0.4\n"
     ]
    }
   ],
   "source": [
    "def calculator(num1, num2, operation):\n",
    "    if operation == 'a':\n",
    "        return num1 + num2\n",
    "    elif operation == 's':\n",
    "        return num1 - num2\n",
    "    elif operation == 'm':\n",
    "        return num1 * num2\n",
    "    elif operation == 'd':\n",
    "        if num2 != 0:\n",
    "            return num1 / num2\n",
    "        else:\n",
    "            return \"Error: Division by zero\"\n",
    "    else:\n",
    "        return \"Error: Invalid operation\"\n",
    "num1 = float(input(\"Enter the first number: \"))\n",
    "num2 = float(input(\"Enter the second number: \"))\n",
    "operation = input(\"Enter the operation ('a' for add, 's' for subtract, 'm' for multiply, 'd' for divide): \")\n",
    "result = calculator(num1, num2, operation)\n",
    "print(\"Result:\", result)"
   ]
  },
  {
   "cell_type": "code",
   "execution_count": null,
   "id": "27602672",
   "metadata": {},
   "outputs": [],
   "source": []
  }
 ],
 "metadata": {
  "kernelspec": {
   "display_name": "Python 3 (ipykernel)",
   "language": "python",
   "name": "python3"
  },
  "language_info": {
   "codemirror_mode": {
    "name": "ipython",
    "version": 3
   },
   "file_extension": ".py",
   "mimetype": "text/x-python",
   "name": "python",
   "nbconvert_exporter": "python",
   "pygments_lexer": "ipython3",
   "version": "3.11.5"
  }
 },
 "nbformat": 4,
 "nbformat_minor": 5
}
